{
 "metadata": {
  "name": "",
  "signature": "sha256:1d31530def7b539622056b38c816ab3f8a57341a4f0a10db633ac5977c1a39b2"
 },
 "nbformat": 3,
 "nbformat_minor": 0,
 "worksheets": [
  {
   "cells": [
    {
     "cell_type": "code",
     "collapsed": false,
     "input": [
      "%pylab inline\n",
      "from __future__ import division\n",
      "\n",
      "import os\n",
      "import sys\n",
      "\n",
      "from linac import Linac, Simulation"
     ],
     "language": "python",
     "metadata": {},
     "outputs": [
      {
       "output_type": "stream",
       "stream": "stdout",
       "text": [
        "Populating the interactive namespace from numpy and matplotlib\n",
        "\n"
       ]
      },
      {
       "output_type": "stream",
       "stream": "stdout",
       "text": [
        "*************************************************************\n",
        " Geant4 version Name: geant4-09-06-patch-03    (14-March-2014)\n",
        "                      Copyright : Geant4 Collaboration\n",
        "                      Reference : NIM A 506 (2003), 250-303\n",
        "                            WWW : http://cern.ch/geant4\n",
        "*************************************************************\n",
        "\n",
        "Visualization Manager instantiating with verbosity \"warnings (3)\"...\n"
       ]
      }
     ],
     "prompt_number": 1
    },
    {
     "cell_type": "code",
     "collapsed": false,
     "input": [
      "sim_name = \"nonreal\"\n",
      "runid = os.getpid()\n",
      "\n",
      "data_directory = \"histograms\"\n",
      "run_name = \"basic\""
     ],
     "language": "python",
     "metadata": {},
     "outputs": [],
     "prompt_number": 2
    },
    {
     "cell_type": "code",
     "collapsed": false,
     "input": [
      "runid"
     ],
     "language": "python",
     "metadata": {},
     "outputs": [
      {
       "metadata": {},
       "output_type": "pyout",
       "prompt_number": 3,
       "text": [
        "19781"
       ]
      }
     ],
     "prompt_number": 3
    },
    {
     "cell_type": "code",
     "collapsed": false,
     "input": [
      "linac = Linac(\"machine/example.yaml\")\n",
      "\n",
      "sim = Simulation(sim_name, linac, run_id=runid)\n",
      "sim.setup_phantom()\n",
      "# sim.show()"
     ],
     "language": "python",
     "metadata": {},
     "outputs": [
      {
       "output_type": "stream",
       "stream": "stdout",
       "text": [
        "DetectorConstruction::DetectorConstruction\n",
        "DetectorConstruction::Construct\n",
        "### NIST DataBase for Elements is used\n",
        " G4PhysicsListHelper::AddTransportation()--- G4CoupledTransportation is used \n",
        "DetectorConstruction::AddTube\n",
        "DetectorConstruction::AddTube\n",
        "DetectorConstruction::AddTube\n",
        "DetectorConstruction::AddTube\n",
        "DetectorConstruction::SetupPhantom\n"
       ]
      }
     ],
     "prompt_number": 4
    },
    {
     "cell_type": "code",
     "collapsed": false,
     "input": [
      "sim.beam_on(int(1e3))"
     ],
     "language": "python",
     "metadata": {},
     "outputs": [
      {
       "output_type": "stream",
       "stream": "stdout",
       "text": [
        "Not using phasespace file as particle source, running from GPS\n",
        "\n"
       ]
      },
      {
       "output_type": "stream",
       "stream": "stdout",
       "text": [
        "phot:   for  gamma, applyCuts: 1     SubType= 12\n",
        "      LambdaPrime table from 200 keV to 10 TeV in 54 bins \n",
        "      ===== EM models for the G4Region  DefaultRegionForTheWorld ======\n",
        "       PhotoElectric :  Emin=        0 eV    Emax=       10 TeV   AngularGenSauterGavrila  FluoActive\n",
        "\n",
        "compt:   for  gamma, applyCuts: 1     SubType= 13\n",
        "      Lambda table from 100 eV  to 1 MeV in 28 bins, spline: 1\n",
        "      LambdaPrime table from 1 MeV to 10 TeV in 49 bins \n",
        "      ===== EM models for the G4Region  DefaultRegionForTheWorld ======\n",
        "       Klein-Nishina :  Emin=        0 eV    Emax=       10 TeV\n",
        "\n",
        "conv:   for  gamma, applyCuts: 1     SubType= 14\n",
        "      Lambda table from 1.022 MeV to 10 TeV in 49 bins, spline: 1\n",
        "      ===== EM models for the G4Region  DefaultRegionForTheWorld ======\n",
        "        BetheHeitler :  Emin=        0 eV    Emax=       80 GeV\n",
        "     BetheHeitlerLPM :  Emin=       80 GeV   Emax=       10 TeV\n",
        "\n",
        "msc:   for e-    SubType= 10\n",
        "      RangeFactor= 0.2, stepLimitType: 0, latDisplacement: 1\n",
        "      ===== EM models for the G4Region  DefaultRegionForTheWorld ======\n",
        "          UrbanMsc93 :  Emin=        0 eV    Emax=      100 MeV  Table with 42 bins Emin=    100 eV    Emax=    100 MeV\n",
        "        WentzelVIUni :  Emin=      100 MeV   Emax=       10 TeV  Table with 35 bins Emin=    100 MeV   Emax=     10 TeV\n",
        "\n",
        "eIoni:   for  e-    SubType= 2\n",
        "      dE/dx and range tables from 100 eV  to 10 TeV in 77 bins\n",
        "      Lambda tables from threshold to 10 TeV in 77 bins, spline: 1\n",
        "      finalRange(mm)= 1, dRoverRange= 0.8, integral: 1, fluct: 1, linLossLimit= 0.01\n",
        "      ===== EM models for the G4Region  DefaultRegionForTheWorld ======\n",
        "        MollerBhabha :  Emin=        0 eV    Emax=       10 TeV\n",
        "\n",
        "eBrem:   for  e-    SubType= 3\n",
        "      dE/dx and range tables from 100 eV  to 10 TeV in 77 bins\n",
        "      Lambda tables from threshold to 10 TeV in 77 bins, spline: 1\n",
        "      LPM flag: 1 for E > 1 GeV\n",
        "      ===== EM models for the G4Region  DefaultRegionForTheWorld ======\n",
        "             eBremSB :  Emin=        0 eV    Emax=        1 GeV   DipBustGen\n",
        "            eBremLPM :  Emin=        1 GeV   Emax=       10 TeV   DipBustGen\n",
        "\n",
        "CoulombScat:   for  e-, applyCuts: 1     SubType= 1\n",
        "      Lambda table from 100 MeV to 10 TeV in 35 bins, spline: 1\n",
        "      180 < Theta(degree) < 180; pLimit(GeV^1)= 0.139531\n",
        "      ===== EM models for the G4Region  DefaultRegionForTheWorld ======\n",
        "  eCoulombScattering :  Emin=      100 MeV   Emax=       10 TeV\n",
        "\n",
        "msc:   for e+    SubType= 10\n",
        "      RangeFactor= 0.2, stepLimitType: 0, latDisplacement: 1\n",
        "      ===== EM models for the G4Region  DefaultRegionForTheWorld ======\n",
        "          UrbanMsc93 :  Emin=        0 eV    Emax=      100 MeV  Table with 42 bins Emin=    100 eV    Emax=    100 MeV\n",
        "        WentzelVIUni :  Emin=      100 MeV   Emax=       10 TeV  Table with 35 bins Emin=    100 MeV   Emax=     10 TeV\n",
        "\n",
        "eIoni:   for  e+    SubType= 2\n",
        "      dE/dx and range tables from 100 eV  to 10 TeV in 77 bins\n",
        "      Lambda tables from threshold to 10 TeV in 77 bins, spline: 1\n",
        "      finalRange(mm)= 1, dRoverRange= 0.8, integral: 1, fluct: 1, linLossLimit= 0.01\n",
        "      ===== EM models for the G4Region  DefaultRegionForTheWorld ======\n",
        "        MollerBhabha :  Emin=        0 eV    Emax=       10 TeV\n",
        "\n",
        "eBrem:   for  e+    SubType= 3\n",
        "      dE/dx and range tables from 100 eV  to 10 TeV in 77 bins\n",
        "      Lambda tables from threshold to 10 TeV in 77 bins, spline: 1\n",
        "      LPM flag: 1 for E > 1 GeV\n",
        "      ===== EM models for the G4Region  DefaultRegionForTheWorld ======\n",
        "             eBremSB :  Emin=        0 eV    Emax=        1 GeV   DipBustGen\n",
        "            eBremLPM :  Emin=        1 GeV   Emax=       10 TeV   DipBustGen\n",
        "\n",
        "annihil:   for  e+, applyCuts: 1     SubType= 5\n",
        "      ===== EM models for the G4Region  DefaultRegionForTheWorld ======\n",
        "            eplus2gg :  Emin=        0 eV    Emax=       10 TeV\n",
        "\n",
        "CoulombScat:   for  e+, applyCuts: 1     SubType= 1\n",
        "      Lambda table from 100 MeV to 10 TeV in 35 bins, spline: 1\n",
        "      180 < Theta(degree) < 180; pLimit(GeV^1)= 0.139531\n",
        "      ===== EM models for the G4Region  DefaultRegionForTheWorld ======\n",
        "  eCoulombScattering :  Emin=      100 MeV   Emax=       10 TeV\n",
        "\n",
        "msc:   for proton    SubType= 10\n",
        "      RangeFactor= 0.2, step limit type: 0, lateralDisplacement: 1, polarAngleLimit(deg)= 180\n",
        "      ===== EM models for the G4Region  DefaultRegionForTheWorld ======\n",
        "        WentzelVIUni :  Emin=        0 eV    Emax=       10 TeV  Table with 77 bins Emin=    100 eV    Emax=     10 TeV\n",
        "\n",
        "hIoni:   for  proton    SubType= 2\n",
        "      dE/dx and range tables from 100 eV  to 10 TeV in 77 bins\n",
        "      Lambda tables from threshold to 10 TeV in 77 bins, spline: 1\n",
        "      finalRange(mm)= 0.1, dRoverRange= 0.2, integral: 1, fluct: 1, linLossLimit= 0.01\n",
        "      ===== EM models for the G4Region  DefaultRegionForTheWorld ======\n",
        "               Bragg :  Emin=        0 eV    Emax=        2 MeV\n",
        "          BetheBloch :  Emin=        2 MeV   Emax=       10 TeV\n",
        "\n",
        "hBrems:   for  proton    SubType= 3\n",
        "      dE/dx and range tables from 100 eV  to 10 TeV in 77 bins\n",
        "      Lambda tables from threshold to 10 TeV in 77 bins, spline: 1\n",
        "      ===== EM models for the G4Region  DefaultRegionForTheWorld ======\n",
        "               hBrem :  Emin=        0 eV    Emax=       10 TeV\n",
        "\n",
        "hPairProd:   for  proton    SubType= 4\n",
        "      dE/dx and range tables from 100 eV  to 10 TeV in 77 bins\n",
        "      Lambda tables from threshold to 10 TeV in 77 bins, spline: 1\n",
        "      ===== EM models for the G4Region  DefaultRegionForTheWorld ======\n",
        "           hPairProd :  Emin=        0 eV    Emax=       10 TeV\n",
        "\n",
        "msc:   for GenericIon    SubType= 10\n",
        "      RangeFactor= 0.2, stepLimitType: 0, latDisplacement: 0\n",
        "      ===== EM models for the G4Region  DefaultRegionForTheWorld ======\n",
        "          UrbanMsc95 :  Emin=        0 eV    Emax=       10 TeV\n",
        "\n",
        "ionIoni:   for  GenericIon    SubType= 2\n",
        "      dE/dx and range tables from 100 eV  to 10 TeV in 77 bins\n",
        "      Lambda tables from threshold to 10 TeV in 77 bins, spline: 1\n",
        "      finalRange(mm)= 0.01, dRoverRange= 0.1, integral: 1, fluct: 1, linLossLimit= 0.02\n",
        "      Stopping Power data for 17 ion/material pairs \n",
        "      ===== EM models for the G4Region  DefaultRegionForTheWorld ======\n",
        "            BraggIon :  Emin=        0 eV    Emax=        2 MeV\n",
        "          BetheBloch :  Emin=        2 MeV   Emax=       10 TeV\n",
        "\n",
        "msc:   for alpha    SubType= 10\n",
        "      RangeFactor= 0.2, stepLimitType: 0, latDisplacement: 0\n",
        "      ===== EM models for the G4Region  DefaultRegionForTheWorld ======\n",
        "          UrbanMsc95 :  Emin=        0 eV    Emax=       10 TeV  Table with 77 bins Emin=    100 eV    Emax=     10 TeV\n",
        "\n",
        "ionIoni:   for  alpha    SubType= 2\n",
        "      dE/dx and range tables from 100 eV  to 10 TeV in 77 bins\n",
        "      Lambda tables from threshold to 10 TeV in 77 bins, spline: 1\n",
        "      finalRange(mm)= 0.01, dRoverRange= 0.1, integral: 1, fluct: 1, linLossLimit= 0.02\n",
        "      ===== EM models for the G4Region  DefaultRegionForTheWorld ======\n",
        "            BraggIon :  Emin=        0 eV    Emax=   7.9452 MeV\n",
        "          BetheBloch :  Emin=   7.9452 MeV   Emax=       10 TeV\n",
        "\n",
        "msc:   for anti_proton    SubType= 10\n",
        "      RangeFactor= 0.2, step limit type: 0, lateralDisplacement: 1, polarAngleLimit(deg)= 180\n",
        "      ===== EM models for the G4Region  DefaultRegionForTheWorld ======\n",
        "        WentzelVIUni :  Emin=        0 eV    Emax=       10 TeV  Table with 77 bins Emin=    100 eV    Emax=     10 TeV\n",
        "\n",
        "hIoni:   for  anti_proton    SubType= 2\n",
        "      dE/dx and range tables from 100 eV  to 10 TeV in 77 bins\n",
        "      Lambda tables from threshold to 10 TeV in 77 bins, spline: 1\n",
        "      finalRange(mm)= 0.1, dRoverRange= 0.2, integral: 1, fluct: 1, linLossLimit= 0.01\n",
        "      ===== EM models for the G4Region  DefaultRegionForTheWorld ======\n",
        "            ICRU73QO :  Emin=        0 eV    Emax=        2 MeV\n",
        "          BetheBloch :  Emin=        2 MeV   Emax=       10 TeV\n",
        "\n",
        "hBrems:   for  anti_proton    SubType= 3\n",
        "      dE/dx and range tables from 100 eV  to 10 TeV in 77 bins\n",
        "      Lambda tables from threshold to 10 TeV in 77 bins, spline: 1\n",
        "      ===== EM models for the G4Region  DefaultRegionForTheWorld ======\n",
        "               hBrem :  Emin=        0 eV    Emax=       10 TeV\n",
        "\n",
        "hPairProd:   for  anti_proton    SubType= 4\n",
        "      dE/dx and range tables from 100 eV  to 10 TeV in 77 bins\n",
        "      Lambda tables from threshold to 10 TeV in 77 bins, spline: 1\n",
        "      ===== EM models for the G4Region  DefaultRegionForTheWorld ======\n",
        "           hPairProd :  Emin=        0 eV    Emax=       10 TeV\n",
        "\n",
        "msc:   for kaon+    SubType= 10\n",
        "      RangeFactor= 0.2, step limit type: 0, lateralDisplacement: 1, polarAngleLimit(deg)= 180\n",
        "      ===== EM models for the G4Region  DefaultRegionForTheWorld ======\n",
        "        WentzelVIUni :  Emin=        0 eV    Emax=       10 TeV  Table with 77 bins Emin=    100 eV    Emax=     10 TeV\n",
        "\n",
        "hIoni:   for  kaon+    SubType= 2\n",
        "      dE/dx and range tables from 100 eV  to 10 TeV in 77 bins\n",
        "      Lambda tables from threshold to 10 TeV in 77 bins, spline: 1\n",
        "      finalRange(mm)= 0.1, dRoverRange= 0.2, integral: 1, fluct: 1, linLossLimit= 0.01\n",
        "      ===== EM models for the G4Region  DefaultRegionForTheWorld ======\n",
        "               Bragg :  Emin=        0 eV    Emax=  1.05231 MeV\n",
        "          BetheBloch :  Emin=  1.05231 MeV   Emax=       10 TeV\n",
        "\n",
        "hBrems:   for  kaon+    SubType= 3\n",
        "      dE/dx and range tables from 100 eV  to 10 TeV in 77 bins\n",
        "      Lambda tables from threshold to 10 TeV in 77 bins, spline: 1\n",
        "      ===== EM models for the G4Region  DefaultRegionForTheWorld ======\n",
        "               hBrem :  Emin=        0 eV    Emax=       10 TeV\n",
        "\n",
        "hPairProd:   for  kaon+    SubType= 4\n",
        "      dE/dx and range tables from 100 eV  to 10 TeV in 77 bins\n",
        "      Lambda tables from threshold to 10 TeV in 77 bins, spline: 1\n",
        "      ===== EM models for the G4Region  DefaultRegionForTheWorld ======\n",
        "           hPairProd :  Emin=        0 eV    Emax=       10 TeV\n",
        "\n",
        "msc:   for kaon-    SubType= 10\n",
        "      RangeFactor= 0.2, step limit type: 0, lateralDisplacement: 1, polarAngleLimit(deg)= 180\n",
        "      ===== EM models for the G4Region  DefaultRegionForTheWorld ======\n",
        "        WentzelVIUni :  Emin=        0 eV    Emax=       10 TeV  Table with 77 bins Emin=    100 eV    Emax=     10 TeV\n",
        "\n",
        "hIoni:   for  kaon-    SubType= 2\n",
        "      dE/dx and range tables from 100 eV  to 10 TeV in 77 bins\n",
        "      Lambda tables from threshold to 10 TeV in 77 bins, spline: 1\n",
        "      finalRange(mm)= 0.1, dRoverRange= 0.2, integral: 1, fluct: 1, linLossLimit= 0.01\n",
        "      ===== EM models for the G4Region  DefaultRegionForTheWorld ======\n",
        "            ICRU73QO :  Emin=        0 eV    Emax=  1.05231 MeV\n",
        "          BetheBloch :  Emin=  1.05231 MeV   Emax=       10 TeV\n",
        "\n",
        "hBrems:   for  kaon-    SubType= 3\n",
        "      dE/dx and range tables from 100 eV  to 10 TeV in 77 bins\n",
        "      Lambda tables from threshold to 10 TeV in 77 bins, spline: 1\n",
        "      ===== EM models for the G4Region  DefaultRegionForTheWorld ======\n",
        "               hBrem :  Emin=        0 eV    Emax=       10 TeV\n",
        "\n",
        "hPairProd:   for  kaon-    SubType= 4\n",
        "      dE/dx and range tables from 100 eV  to 10 TeV in 77 bins\n",
        "      Lambda tables from threshold to 10 TeV in 77 bins, spline: 1\n",
        "      ===== EM models for the G4Region  DefaultRegionForTheWorld ======\n",
        "           hPairProd :  Emin=        0 eV    Emax=       10 TeV\n",
        "\n",
        "msc:   for mu+    SubType= 10\n",
        "      RangeFactor= 0.2, step limit type: 0, lateralDisplacement: 1, polarAngleLimit(deg)= 180\n",
        "      ===== EM models for the G4Region  DefaultRegionForTheWorld ======\n",
        "        WentzelVIUni :  Emin=        0 eV    Emax=       10 TeV  Table with 77 bins Emin=    100 eV    Emax=     10 TeV\n",
        "\n"
       ]
      },
      {
       "output_type": "stream",
       "stream": "stdout",
       "text": [
        "muIoni:   for  mu+    SubType= 2\n",
        "      dE/dx and range tables from 100 eV  to 10 TeV in 77 bins\n",
        "      Lambda tables from threshold to 10 TeV in 77 bins, spline: 1\n",
        "      finalRange(mm)= 1, dRoverRange= 0.2, integral: 1, fluct: 1, linLossLimit= 0.01\n",
        "      ===== EM models for the G4Region  DefaultRegionForTheWorld ======\n",
        "               Bragg :  Emin=        0 eV    Emax=      200 keV\n",
        "          BetheBloch :  Emin=      200 keV   Emax=        1 GeV\n",
        "        MuBetheBloch :  Emin=        1 GeV   Emax=       10 TeV\n",
        "\n",
        "muBrems:   for  mu+    SubType= 3\n",
        "      dE/dx and range tables from 100 eV  to 10 TeV in 77 bins\n",
        "      Lambda tables from threshold to 10 TeV in 77 bins, spline: 1\n",
        "      ===== EM models for the G4Region  DefaultRegionForTheWorld ======\n",
        "              MuBrem :  Emin=        0 eV    Emax=       10 TeV\n",
        "\n",
        "muPairProd:   for  mu+    SubType= 4\n",
        "      dE/dx and range tables from 100 eV  to 10 TeV in 77 bins\n",
        "      Lambda tables from threshold to 10 TeV in 77 bins, spline: 1\n",
        "      ===== EM models for the G4Region  DefaultRegionForTheWorld ======\n",
        "          muPairProd :  Emin=        0 eV    Emax=       10 TeV\n",
        "\n",
        "CoulombScat:   for  mu+, applyCuts: 1     SubType= 1\n",
        "      Lambda table from 100 eV  to 10 TeV in 43 bins, spline: 1\n",
        "      180 < Theta(degree) < 180; pLimit(GeV^1)= 0.139531\n",
        "      ===== EM models for the G4Region  DefaultRegionForTheWorld ======\n",
        "  eCoulombScattering :  Emin=        0 eV    Emax=       10 TeV\n",
        "\n",
        "msc:   for mu-    SubType= 10\n",
        "      RangeFactor= 0.2, step limit type: 0, lateralDisplacement: 1, polarAngleLimit(deg)= 180\n",
        "      ===== EM models for the G4Region  DefaultRegionForTheWorld ======\n",
        "        WentzelVIUni :  Emin=        0 eV    Emax=       10 TeV  Table with 77 bins Emin=    100 eV    Emax=     10 TeV\n",
        "\n",
        "muIoni:   for  mu-    SubType= 2\n",
        "      dE/dx and range tables from 100 eV  to 10 TeV in 77 bins\n",
        "      Lambda tables from threshold to 10 TeV in 77 bins, spline: 1\n",
        "      finalRange(mm)= 1, dRoverRange= 0.2, integral: 1, fluct: 1, linLossLimit= 0.01\n",
        "      ===== EM models for the G4Region  DefaultRegionForTheWorld ======\n",
        "            ICRU73QO :  Emin=        0 eV    Emax=      200 keV\n",
        "          BetheBloch :  Emin=      200 keV   Emax=        1 GeV\n",
        "        MuBetheBloch :  Emin=        1 GeV   Emax=       10 TeV\n",
        "\n",
        "muBrems:   for  mu-    SubType= 3\n",
        "      dE/dx and range tables from 100 eV  to 10 TeV in 77 bins\n",
        "      Lambda tables from threshold to 10 TeV in 77 bins, spline: 1\n",
        "      ===== EM models for the G4Region  DefaultRegionForTheWorld ======\n",
        "              MuBrem :  Emin=        0 eV    Emax=       10 TeV\n",
        "\n",
        "muPairProd:   for  mu-    SubType= 4\n",
        "      dE/dx and range tables from 100 eV  to 10 TeV in 77 bins\n",
        "      Lambda tables from threshold to 10 TeV in 77 bins, spline: 1\n",
        "      ===== EM models for the G4Region  DefaultRegionForTheWorld ======\n",
        "          muPairProd :  Emin=        0 eV    Emax=       10 TeV\n",
        "\n",
        "CoulombScat:   for  mu-, applyCuts: 1     SubType= 1\n",
        "      Lambda table from 100 eV  to 10 TeV in 43 bins, spline: 1\n",
        "      180 < Theta(degree) < 180; pLimit(GeV^1)= 0.139531\n",
        "      ===== EM models for the G4Region  DefaultRegionForTheWorld ======\n",
        "  eCoulombScattering :  Emin=        0 eV    Emax=       10 TeV\n",
        "\n",
        "msc:   for pi+    SubType= 10\n",
        "      RangeFactor= 0.2, step limit type: 0, lateralDisplacement: 1, polarAngleLimit(deg)= 180\n",
        "      ===== EM models for the G4Region  DefaultRegionForTheWorld ======\n",
        "        WentzelVIUni :  Emin=        0 eV    Emax=       10 TeV  Table with 77 bins Emin=    100 eV    Emax=     10 TeV\n",
        "\n",
        "hIoni:   for  pi+    SubType= 2\n",
        "      dE/dx and range tables from 100 eV  to 10 TeV in 77 bins\n",
        "      Lambda tables from threshold to 10 TeV in 77 bins, spline: 1\n",
        "      finalRange(mm)= 0.1, dRoverRange= 0.2, integral: 1, fluct: 1, linLossLimit= 0.01\n",
        "      ===== EM models for the G4Region  DefaultRegionForTheWorld ======\n",
        "               Bragg :  Emin=        0 eV    Emax=  297.505 keV\n",
        "          BetheBloch :  Emin=  297.505 keV   Emax=       10 TeV\n",
        "\n",
        "hBrems:   for  pi+    SubType= 3\n",
        "      dE/dx and range tables from 100 eV  to 10 TeV in 77 bins\n",
        "      Lambda tables from threshold to 10 TeV in 77 bins, spline: 1\n",
        "      ===== EM models for the G4Region  DefaultRegionForTheWorld ======\n",
        "               hBrem :  Emin=        0 eV    Emax=       10 TeV\n",
        "\n",
        "hPairProd:   for  pi+    SubType= 4\n",
        "      dE/dx and range tables from 100 eV  to 10 TeV in 77 bins\n",
        "      Lambda tables from threshold to 10 TeV in 77 bins, spline: 1\n",
        "      ===== EM models for the G4Region  DefaultRegionForTheWorld ======\n",
        "           hPairProd :  Emin=        0 eV    Emax=       10 TeV\n",
        "\n",
        "msc:   for pi-    SubType= 10\n",
        "      RangeFactor= 0.2, step limit type: 0, lateralDisplacement: 1, polarAngleLimit(deg)= 180\n",
        "      ===== EM models for the G4Region  DefaultRegionForTheWorld ======\n",
        "        WentzelVIUni :  Emin=        0 eV    Emax=       10 TeV  Table with 77 bins Emin=    100 eV    Emax=     10 TeV\n",
        "\n",
        "hIoni:   for  pi-    SubType= 2\n",
        "      dE/dx and range tables from 100 eV  to 10 TeV in 77 bins\n",
        "      Lambda tables from threshold to 10 TeV in 77 bins, spline: 1\n",
        "      finalRange(mm)= 0.1, dRoverRange= 0.2, integral: 1, fluct: 1, linLossLimit= 0.01\n",
        "      ===== EM models for the G4Region  DefaultRegionForTheWorld ======\n",
        "            ICRU73QO :  Emin=        0 eV    Emax=  297.505 keV\n",
        "          BetheBloch :  Emin=  297.505 keV   Emax=       10 TeV\n",
        "\n",
        "hBrems:   for  pi-    SubType= 3\n",
        "      dE/dx and range tables from 100 eV  to 10 TeV in 77 bins\n",
        "      Lambda tables from threshold to 10 TeV in 77 bins, spline: 1\n",
        "      ===== EM models for the G4Region  DefaultRegionForTheWorld ======\n",
        "               hBrem :  Emin=        0 eV    Emax=       10 TeV\n",
        "\n",
        "hPairProd:   for  pi-    SubType= 4\n",
        "      dE/dx and range tables from 100 eV  to 10 TeV in 77 bins\n",
        "      Lambda tables from threshold to 10 TeV in 77 bins, spline: 1\n",
        "      ===== EM models for the G4Region  DefaultRegionForTheWorld ======\n",
        "           hPairProd :  Emin=        0 eV    Emax=       10 TeV\n"
       ]
      }
     ],
     "prompt_number": 5
    },
    {
     "cell_type": "code",
     "collapsed": false,
     "input": [
      "sim.save_histograms(data_directory, run_name, runid)"
     ],
     "language": "python",
     "metadata": {},
     "outputs": [],
     "prompt_number": 6
    },
    {
     "cell_type": "code",
     "collapsed": false,
     "input": [
      "energy = load(\"%s/energy_%s_%s_%s.npy\" % (data_directory, sim_name, run_name, runid))\n",
      "shape(energy)"
     ],
     "language": "python",
     "metadata": {},
     "outputs": [
      {
       "metadata": {},
       "output_type": "pyout",
       "prompt_number": 7,
       "text": [
        "(101, 101, 100)"
       ]
      }
     ],
     "prompt_number": 7
    },
    {
     "cell_type": "code",
     "collapsed": false,
     "input": [
      "sum(energy)"
     ],
     "language": "python",
     "metadata": {},
     "outputs": [
      {
       "metadata": {},
       "output_type": "pyout",
       "prompt_number": 8,
       "text": [
        "6.3258707e-16"
       ]
      }
     ],
     "prompt_number": 8
    },
    {
     "cell_type": "code",
     "collapsed": false,
     "input": [
      "mm = 1\n",
      "\n",
      "x_dim = 101\n",
      "y_dim = 101\n",
      "z_dim = 100\n",
      "\n",
      "x_min = -75.75 * mm\n",
      "y_min = -75.75 * mm\n",
      "z_min = -50 * mm\n",
      "\n",
      "x_max = 75.75 * mm\n",
      "y_max = 75.75 * mm\n",
      "z_max = 0 * mm\n",
      "\n",
      "x_res = (x_max - x_min) / (x_dim)\n",
      "y_res = (y_max - y_min) / (y_dim)\n",
      "z_res = (z_max - z_min) / (z_dim)\n",
      "\n",
      "x = arange(x_min,x_max,x_res) + x_res/2\n",
      "y = arange(y_min,y_max,y_res) + y_res/2\n",
      "z = -(arange(z_min,z_max,z_res) + z_res/2)"
     ],
     "language": "python",
     "metadata": {},
     "outputs": [],
     "prompt_number": 9
    },
    {
     "cell_type": "code",
     "collapsed": false,
     "input": [
      "depth_sum = sum(sum(energy,axis=0),axis=0)\n",
      "\n",
      "plot(z,depth_sum)\n",
      "grid(True)"
     ],
     "language": "python",
     "metadata": {},
     "outputs": [
      {
       "metadata": {},
       "output_type": "display_data",
       "png": "[encoded data removed]",
       "text": [
        "<matplotlib.figure.Figure at 0x7f1def0a6510>"
       ]
      }
     ],
     "prompt_number": 10
    },
    {
     "cell_type": "code",
     "collapsed": false,
     "input": [
      "# contour(energy[:,:,amax(depth_sum)])"
     ],
     "language": "python",
     "metadata": {},
     "outputs": [],
     "prompt_number": 11
    },
    {
     "cell_type": "code",
     "collapsed": false,
     "input": [
      "plot(x,sum(sum(energy,axis=2),axis=1))"
     ],
     "language": "python",
     "metadata": {},
     "outputs": [
      {
       "metadata": {},
       "output_type": "pyout",
       "prompt_number": 12,
       "text": [
        "[<matplotlib.lines.Line2D at 0x7f1def123810>]"
       ]
      },
      {
       "metadata": {},
       "output_type": "display_data",
       "png": "[encoded data removed]",
       "text": [
        "<matplotlib.figure.Figure at 0x7f1def08bb10>"
       ]
      }
     ],
     "prompt_number": 12
    },
    {
     "cell_type": "code",
     "collapsed": false,
     "input": [
      "runid"
     ],
     "language": "python",
     "metadata": {},
     "outputs": [
      {
       "metadata": {},
       "output_type": "pyout",
       "prompt_number": 13,
       "text": [
        "19781"
       ]
      }
     ],
     "prompt_number": 13
    },
    {
     "cell_type": "code",
     "collapsed": false,
     "input": [
      "# sim.show()"
     ],
     "language": "python",
     "metadata": {},
     "outputs": [],
     "prompt_number": 14
    },
    {
     "cell_type": "code",
     "collapsed": false,
     "input": [
      "# sim.beam_on(int(150))"
     ],
     "language": "python",
     "metadata": {},
     "outputs": [],
     "prompt_number": 15
    },
    {
     "cell_type": "code",
     "collapsed": false,
     "input": [
      "while True:\n",
      "    sim.beam_on(int(1e4))\n",
      "    sim.save_histograms(data_directory, run_name, runid)\n",
      "    energy = load(\"%s/energy_%s_%s_%s.npy\" % (data_directory, sim_name, run_name, runid))"
     ],
     "language": "python",
     "metadata": {},
     "outputs": [
      {
       "output_type": "stream",
       "stream": "stdout",
       "text": [
        "Not using phasespace file as particle source, running from GPS\n",
        "Not using phasespace file as particle source, running from GPS\n"
       ]
      },
      {
       "output_type": "stream",
       "stream": "stdout",
       "text": [
        "Not using phasespace file as particle source, running from GPS\n",
        "Not using phasespace file as particle source, running from GPS\n"
       ]
      },
      {
       "output_type": "stream",
       "stream": "stdout",
       "text": [
        "Not using phasespace file as particle source, running from GPS\n",
        "Not using phasespace file as particle source, running from GPS\n"
       ]
      },
      {
       "output_type": "stream",
       "stream": "stdout",
       "text": [
        "Not using phasespace file as particle source, running from GPS\n",
        "Not using phasespace file as particle source, running from GPS\n"
       ]
      },
      {
       "output_type": "stream",
       "stream": "stdout",
       "text": [
        "Not using phasespace file as particle source, running from GPS\n",
        "Not using phasespace file as particle source, running from GPS\n"
       ]
      },
      {
       "output_type": "stream",
       "stream": "stdout",
       "text": [
        "Not using phasespace file as particle source, running from GPS\n",
        "Not using phasespace file as particle source, running from GPS\n"
       ]
      },
      {
       "output_type": "stream",
       "stream": "stdout",
       "text": [
        "Not using phasespace file as particle source, running from GPS\n",
        "Not using phasespace file as particle source, running from GPS\n"
       ]
      },
      {
       "output_type": "stream",
       "stream": "stdout",
       "text": [
        "Not using phasespace file as particle source, running from GPS\n",
        "Not using phasespace file as particle source, running from GPS\n"
       ]
      },
      {
       "output_type": "stream",
       "stream": "stdout",
       "text": [
        "Not using phasespace file as particle source, running from GPS\n",
        "Not using phasespace file as particle source, running from GPS\n"
       ]
      },
      {
       "output_type": "stream",
       "stream": "stdout",
       "text": [
        "Not using phasespace file as particle source, running from GPS\n",
        "Not using phasespace file as particle source, running from GPS\n"
       ]
      },
      {
       "output_type": "stream",
       "stream": "stdout",
       "text": [
        "Not using phasespace file as particle source, running from GPS\n",
        "Not using phasespace file as particle source, running from GPS\n"
       ]
      },
      {
       "output_type": "stream",
       "stream": "stdout",
       "text": [
        "Not using phasespace file as particle source, running from GPS\n",
        "Not using phasespace file as particle source, running from GPS\n"
       ]
      },
      {
       "output_type": "stream",
       "stream": "stdout",
       "text": [
        "Not using phasespace file as particle source, running from GPS\n",
        "Not using phasespace file as particle source, running from GPS\n"
       ]
      },
      {
       "output_type": "stream",
       "stream": "stdout",
       "text": [
        "Not using phasespace file as particle source, running from GPS\n",
        "Not using phasespace file as particle source, running from GPS\n"
       ]
      },
      {
       "ename": "KeyboardInterrupt",
       "evalue": "",
       "output_type": "pyerr",
       "traceback": [
        "\u001b[0;31m---------------------------------------------------------------------------\u001b[0m\n\u001b[0;31mKeyboardInterrupt\u001b[0m                         Traceback (most recent call last)",
        "\u001b[0;32m<ipython-input-16-341e3022624d>\u001b[0m in \u001b[0;36m<module>\u001b[0;34m()\u001b[0m\n\u001b[1;32m      1\u001b[0m \u001b[0;32mwhile\u001b[0m \u001b[0mTrue\u001b[0m\u001b[0;34m:\u001b[0m\u001b[0;34m\u001b[0m\u001b[0m\n\u001b[0;32m----> 2\u001b[0;31m     \u001b[0msim\u001b[0m\u001b[0;34m.\u001b[0m\u001b[0mbeam_on\u001b[0m\u001b[0;34m(\u001b[0m\u001b[0mint\u001b[0m\u001b[0;34m(\u001b[0m\u001b[0;36m1e4\u001b[0m\u001b[0;34m)\u001b[0m\u001b[0;34m)\u001b[0m\u001b[0;34m\u001b[0m\u001b[0m\n\u001b[0m\u001b[1;32m      3\u001b[0m     \u001b[0msim\u001b[0m\u001b[0;34m.\u001b[0m\u001b[0msave_histograms\u001b[0m\u001b[0;34m(\u001b[0m\u001b[0mdata_directory\u001b[0m\u001b[0;34m,\u001b[0m \u001b[0mrun_name\u001b[0m\u001b[0;34m,\u001b[0m \u001b[0mrunid\u001b[0m\u001b[0;34m)\u001b[0m\u001b[0;34m\u001b[0m\u001b[0m\n\u001b[1;32m      4\u001b[0m     \u001b[0menergy\u001b[0m \u001b[0;34m=\u001b[0m \u001b[0mload\u001b[0m\u001b[0;34m(\u001b[0m\u001b[0;34m\"%s/energy_%s_%s_%s.npy\"\u001b[0m \u001b[0;34m%\u001b[0m \u001b[0;34m(\u001b[0m\u001b[0mdata_directory\u001b[0m\u001b[0;34m,\u001b[0m \u001b[0msim_name\u001b[0m\u001b[0;34m,\u001b[0m \u001b[0mrun_name\u001b[0m\u001b[0;34m,\u001b[0m \u001b[0mrunid\u001b[0m\u001b[0;34m)\u001b[0m\u001b[0;34m)\u001b[0m\u001b[0;34m\u001b[0m\u001b[0m\n",
        "\u001b[0;32m/home/simonbiggs/Dropbox/GEANT4 Scratchpad/linac/linac/simulation.pyc\u001b[0m in \u001b[0;36mbeam_on\u001b[0;34m(self, histories, fwhm, energy)\u001b[0m\n\u001b[1;32m    300\u001b[0m             \u001b[0mself\u001b[0m\u001b[0;34m.\u001b[0m\u001b[0mprimary_generator\u001b[0m\u001b[0;34m.\u001b[0m\u001b[0mSetDirection\u001b[0m\u001b[0;34m(\u001b[0m\u001b[0mG4ThreeVector\u001b[0m\u001b[0;34m(\u001b[0m\u001b[0;36m0\u001b[0m\u001b[0;34m,\u001b[0m \u001b[0;36m0\u001b[0m\u001b[0;34m,\u001b[0m \u001b[0;34m-\u001b[0m\u001b[0;36m1\u001b[0m\u001b[0;34m)\u001b[0m\u001b[0;34m)\u001b[0m\u001b[0;34m\u001b[0m\u001b[0m\n\u001b[1;32m    301\u001b[0m \u001b[0;34m\u001b[0m\u001b[0m\n\u001b[0;32m--> 302\u001b[0;31m         \u001b[0mGeant4\u001b[0m\u001b[0;34m.\u001b[0m\u001b[0mgRunManager\u001b[0m\u001b[0;34m.\u001b[0m\u001b[0mBeamOn\u001b[0m\u001b[0;34m(\u001b[0m\u001b[0mint\u001b[0m\u001b[0;34m(\u001b[0m\u001b[0mhistories\u001b[0m\u001b[0;34m)\u001b[0m\u001b[0;34m)\u001b[0m\u001b[0;34m\u001b[0m\u001b[0m\n\u001b[0m\u001b[1;32m    303\u001b[0m \u001b[0;34m\u001b[0m\u001b[0m\n\u001b[1;32m    304\u001b[0m \u001b[0;34m\u001b[0m\u001b[0m\n",
        "\u001b[0;31mKeyboardInterrupt\u001b[0m: "
       ]
      },
      {
       "output_type": "stream",
       "stream": "stdout",
       "text": [
        "Not using phasespace file as particle source, running from GPS\n"
       ]
      }
     ],
     "prompt_number": 16
    },
    {
     "cell_type": "code",
     "collapsed": false,
     "input": [
      "# energy[1,0,0]"
     ],
     "language": "python",
     "metadata": {},
     "outputs": []
    },
    {
     "cell_type": "code",
     "collapsed": false,
     "input": [
      "# energy[0,1,0]"
     ],
     "language": "python",
     "metadata": {},
     "outputs": []
    },
    {
     "cell_type": "code",
     "collapsed": false,
     "input": [
      "# energy[0,0,1]"
     ],
     "language": "python",
     "metadata": {},
     "outputs": []
    },
    {
     "cell_type": "code",
     "collapsed": false,
     "input": [],
     "language": "python",
     "metadata": {},
     "outputs": []
    },
    {
     "cell_type": "code",
     "collapsed": false,
     "input": [],
     "language": "python",
     "metadata": {},
     "outputs": []
    }
   ],
   "metadata": {}
  }
 ]
}
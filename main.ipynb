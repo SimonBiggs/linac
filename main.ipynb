{
 "metadata": {
  "name": "",
  "signature": "sha256:1d31530def7b539622056b38c816ab3f8a57341a4f0a10db633ac5977c1a39b2"
 },
 "nbformat": 3,
 "nbformat_minor": 0,
 "worksheets": [
  {
   "cells": [
    {
     "cell_type": "code",
     "collapsed": false,
     "input": [
      "%pylab inline\n",
      "\n",
      "import os\n",
      "import sys\n",
      "\n",
      "from linac import Linac, Simulation"
     ],
     "language": "python",
     "metadata": {},
     "outputs": [
      {
       "output_type": "stream",
       "stream": "stdout",
       "text": [
        "Populating the interactive namespace from numpy and matplotlib\n",
        "\n"
       ]
      },
      {
       "output_type": "stream",
       "stream": "stdout",
       "text": [
        "*************************************************************\n",
        " Geant4 version Name: geant4-09-06-patch-03    (14-March-2014)\n",
        "                      Copyright : Geant4 Collaboration\n",
        "                      Reference : NIM A 506 (2003), 250-303\n",
        "                            WWW : http://cern.ch/geant4\n",
        "*************************************************************\n",
        "\n",
        "Visualization Manager instantiating with verbosity \"warnings (3)\"...\n"
       ]
      }
     ],
     "prompt_number": 1
    },
    {
     "cell_type": "code",
     "collapsed": false,
     "input": [
      "sim_name = \"electron\"\n",
      "runid = os.getpid()\n",
      "\n",
      "data_directory = \"histograms\"\n",
      "run_name = \"basic\""
     ],
     "language": "python",
     "metadata": {},
     "outputs": [],
     "prompt_number": 2
    },
    {
     "cell_type": "code",
     "collapsed": false,
     "input": [
      "linac = Linac(\"machine/example.yaml\")\n",
      "\n",
      "sim = Simulation(sim_name, linac, run_id=runid)\n",
      "sim.setup_phantom()\n",
      "# sim.show()"
     ],
     "language": "python",
     "metadata": {},
     "outputs": [
      {
       "output_type": "stream",
       "stream": "stdout",
       "text": [
        "DetectorConstruction::DetectorConstruction\n",
        "DetectorConstruction::Construct\n",
        "### NIST DataBase for Elements is used\n",
        " G4PhysicsListHelper::AddTransportation()--- G4CoupledTransportation is used \n",
        "DetectorConstruction::AddTube\n",
        "DetectorConstruction::AddTube\n",
        "DetectorConstruction::AddTube\n",
        "DetectorConstruction::AddTube\n",
        "DetectorConstruction::AddSubtractionSlab\n",
        "DetectorConstruction::AddSubtractionSlab\n",
        "DetectorConstruction::AddSubtractionSlab\n",
        "DetectorConstruction::AddSubtractionSlab\n",
        "DetectorConstruction::AddSubtractionSlab\n",
        "DetectorConstruction::SetupPhantom\n"
       ]
      }
     ],
     "prompt_number": 3
    },
    {
     "cell_type": "code",
     "collapsed": false,
     "input": [
      "sim.beam_on(int(1e5))"
     ],
     "language": "python",
     "metadata": {},
     "outputs": [
      {
       "output_type": "stream",
       "stream": "stdout",
       "text": [
        "Not using phasespace file as particle source, running from GPS\n",
        "\n"
       ]
      },
      {
       "output_type": "stream",
       "stream": "stdout",
       "text": [
        "phot:   for  gamma, applyCuts: 1     SubType= 12\n",
        "      LambdaPrime table from 200 keV to 10 TeV in 54 bins \n",
        "      ===== EM models for the G4Region  DefaultRegionForTheWorld ======\n",
        "       PhotoElectric :  Emin=        0 eV    Emax=       10 TeV   AngularGenSauterGavrila  FluoActive\n",
        "\n",
        "compt:   for  gamma, applyCuts: 1     SubType= 13\n",
        "      Lambda table from 100 eV  to 1 MeV in 28 bins, spline: 1\n",
        "      LambdaPrime table from 1 MeV to 10 TeV in 49 bins \n",
        "      ===== EM models for the G4Region  DefaultRegionForTheWorld ======\n",
        "       Klein-Nishina :  Emin=        0 eV    Emax=       10 TeV\n",
        "\n",
        "conv:   for  gamma, applyCuts: 1     SubType= 14\n",
        "      Lambda table from 1.022 MeV to 10 TeV in 49 bins, spline: 1\n",
        "      ===== EM models for the G4Region  DefaultRegionForTheWorld ======\n",
        "        BetheHeitler :  Emin=        0 eV    Emax=       80 GeV\n",
        "     BetheHeitlerLPM :  Emin=       80 GeV   Emax=       10 TeV\n",
        "\n",
        "msc:   for e-    SubType= 10\n",
        "      RangeFactor= 0.2, stepLimitType: 0, latDisplacement: 1\n",
        "      ===== EM models for the G4Region  DefaultRegionForTheWorld ======\n",
        "          UrbanMsc93 :  Emin=        0 eV    Emax=      100 MeV  Table with 42 bins Emin=    100 eV    Emax=    100 MeV\n",
        "        WentzelVIUni :  Emin=      100 MeV   Emax=       10 TeV  Table with 35 bins Emin=    100 MeV   Emax=     10 TeV\n",
        "\n",
        "eIoni:   for  e-    SubType= 2\n",
        "      dE/dx and range tables from 100 eV  to 10 TeV in 77 bins\n",
        "      Lambda tables from threshold to 10 TeV in 77 bins, spline: 1\n",
        "      finalRange(mm)= 1, dRoverRange= 0.8, integral: 1, fluct: 1, linLossLimit= 0.01\n",
        "      ===== EM models for the G4Region  DefaultRegionForTheWorld ======\n",
        "        MollerBhabha :  Emin=        0 eV    Emax=       10 TeV\n",
        "\n",
        "eBrem:   for  e-    SubType= 3\n",
        "      dE/dx and range tables from 100 eV  to 10 TeV in 77 bins\n",
        "      Lambda tables from threshold to 10 TeV in 77 bins, spline: 1\n",
        "      LPM flag: 1 for E > 1 GeV\n",
        "      ===== EM models for the G4Region  DefaultRegionForTheWorld ======\n",
        "             eBremSB :  Emin=        0 eV    Emax=        1 GeV   DipBustGen\n",
        "            eBremLPM :  Emin=        1 GeV   Emax=       10 TeV   DipBustGen\n",
        "\n",
        "CoulombScat:   for  e-, applyCuts: 1     SubType= 1\n",
        "      Lambda table from 100 MeV to 10 TeV in 35 bins, spline: 1\n",
        "      180 < Theta(degree) < 180; pLimit(GeV^1)= 0.139531\n",
        "      ===== EM models for the G4Region  DefaultRegionForTheWorld ======\n",
        "  eCoulombScattering :  Emin=      100 MeV   Emax=       10 TeV\n",
        "\n",
        "msc:   for e+    SubType= 10\n",
        "      RangeFactor= 0.2, stepLimitType: 0, latDisplacement: 1\n",
        "      ===== EM models for the G4Region  DefaultRegionForTheWorld ======\n",
        "          UrbanMsc93 :  Emin=        0 eV    Emax=      100 MeV  Table with 42 bins Emin=    100 eV    Emax=    100 MeV\n",
        "        WentzelVIUni :  Emin=      100 MeV   Emax=       10 TeV  Table with 35 bins Emin=    100 MeV   Emax=     10 TeV\n",
        "\n",
        "eIoni:   for  e+    SubType= 2\n",
        "      dE/dx and range tables from 100 eV  to 10 TeV in 77 bins\n",
        "      Lambda tables from threshold to 10 TeV in 77 bins, spline: 1\n",
        "      finalRange(mm)= 1, dRoverRange= 0.8, integral: 1, fluct: 1, linLossLimit= 0.01\n",
        "      ===== EM models for the G4Region  DefaultRegionForTheWorld ======\n",
        "        MollerBhabha :  Emin=        0 eV    Emax=       10 TeV\n",
        "\n",
        "eBrem:   for  e+    SubType= 3\n",
        "      dE/dx and range tables from 100 eV  to 10 TeV in 77 bins\n",
        "      Lambda tables from threshold to 10 TeV in 77 bins, spline: 1\n",
        "      LPM flag: 1 for E > 1 GeV\n",
        "      ===== EM models for the G4Region  DefaultRegionForTheWorld ======\n",
        "             eBremSB :  Emin=        0 eV    Emax=        1 GeV   DipBustGen\n",
        "            eBremLPM :  Emin=        1 GeV   Emax=       10 TeV   DipBustGen\n",
        "\n",
        "annihil:   for  e+, applyCuts: 1     SubType= 5\n",
        "      ===== EM models for the G4Region  DefaultRegionForTheWorld ======\n",
        "            eplus2gg :  Emin=        0 eV    Emax=       10 TeV\n",
        "\n",
        "CoulombScat:   for  e+, applyCuts: 1     SubType= 1\n",
        "      Lambda table from 100 MeV to 10 TeV in 35 bins, spline: 1\n",
        "      180 < Theta(degree) < 180; pLimit(GeV^1)= 0.139531\n",
        "      ===== EM models for the G4Region  DefaultRegionForTheWorld ======\n",
        "  eCoulombScattering :  Emin=      100 MeV   Emax=       10 TeV\n",
        "\n",
        "msc:   for proton    SubType= 10\n",
        "      RangeFactor= 0.2, step limit type: 0, lateralDisplacement: 1, polarAngleLimit(deg)= 180\n",
        "      ===== EM models for the G4Region  DefaultRegionForTheWorld ======\n",
        "        WentzelVIUni :  Emin=        0 eV    Emax=       10 TeV  Table with 77 bins Emin=    100 eV    Emax=     10 TeV\n",
        "\n",
        "hIoni:   for  proton    SubType= 2\n",
        "      dE/dx and range tables from 100 eV  to 10 TeV in 77 bins\n",
        "      Lambda tables from threshold to 10 TeV in 77 bins, spline: 1\n",
        "      finalRange(mm)= 0.1, dRoverRange= 0.2, integral: 1, fluct: 1, linLossLimit= 0.01\n",
        "      ===== EM models for the G4Region  DefaultRegionForTheWorld ======\n",
        "               Bragg :  Emin=        0 eV    Emax=        2 MeV\n",
        "          BetheBloch :  Emin=        2 MeV   Emax=       10 TeV\n",
        "\n",
        "hBrems:   for  proton    SubType= 3\n",
        "      dE/dx and range tables from 100 eV  to 10 TeV in 77 bins\n",
        "      Lambda tables from threshold to 10 TeV in 77 bins, spline: 1\n",
        "      ===== EM models for the G4Region  DefaultRegionForTheWorld ======\n",
        "               hBrem :  Emin=        0 eV    Emax=       10 TeV\n",
        "\n",
        "hPairProd:   for  proton    SubType= 4\n",
        "      dE/dx and range tables from 100 eV  to 10 TeV in 77 bins\n",
        "      Lambda tables from threshold to 10 TeV in 77 bins, spline: 1\n",
        "      ===== EM models for the G4Region  DefaultRegionForTheWorld ======\n",
        "           hPairProd :  Emin=        0 eV    Emax=       10 TeV\n",
        "\n",
        "msc:   for GenericIon    SubType= 10\n",
        "      RangeFactor= 0.2, stepLimitType: 0, latDisplacement: 0\n",
        "      ===== EM models for the G4Region  DefaultRegionForTheWorld ======\n",
        "          UrbanMsc95 :  Emin=        0 eV    Emax=       10 TeV\n",
        "\n",
        "ionIoni:   for  GenericIon    SubType= 2\n",
        "      dE/dx and range tables from 100 eV  to 10 TeV in 77 bins\n",
        "      Lambda tables from threshold to 10 TeV in 77 bins, spline: 1\n",
        "      finalRange(mm)= 0.01, dRoverRange= 0.1, integral: 1, fluct: 1, linLossLimit= 0.02\n",
        "      Stopping Power data for 17 ion/material pairs \n",
        "      ===== EM models for the G4Region  DefaultRegionForTheWorld ======\n",
        "            BraggIon :  Emin=        0 eV    Emax=        2 MeV\n",
        "          BetheBloch :  Emin=        2 MeV   Emax=       10 TeV\n",
        "\n",
        "msc:   for alpha    SubType= 10\n",
        "      RangeFactor= 0.2, stepLimitType: 0, latDisplacement: 0\n",
        "      ===== EM models for the G4Region  DefaultRegionForTheWorld ======\n",
        "          UrbanMsc95 :  Emin=        0 eV    Emax=       10 TeV  Table with 77 bins Emin=    100 eV    Emax=     10 TeV\n",
        "\n",
        "ionIoni:   for  alpha    SubType= 2\n",
        "      dE/dx and range tables from 100 eV  to 10 TeV in 77 bins\n",
        "      Lambda tables from threshold to 10 TeV in 77 bins, spline: 1\n",
        "      finalRange(mm)= 0.01, dRoverRange= 0.1, integral: 1, fluct: 1, linLossLimit= 0.02\n",
        "      ===== EM models for the G4Region  DefaultRegionForTheWorld ======\n",
        "            BraggIon :  Emin=        0 eV    Emax=   7.9452 MeV\n",
        "          BetheBloch :  Emin=   7.9452 MeV   Emax=       10 TeV\n",
        "\n",
        "msc:   for anti_proton    SubType= 10\n",
        "      RangeFactor= 0.2, step limit type: 0, lateralDisplacement: 1, polarAngleLimit(deg)= 180\n",
        "      ===== EM models for the G4Region  DefaultRegionForTheWorld ======\n",
        "        WentzelVIUni :  Emin=        0 eV    Emax=       10 TeV  Table with 77 bins Emin=    100 eV    Emax=     10 TeV\n",
        "\n",
        "hIoni:   for  anti_proton    SubType= 2\n",
        "      dE/dx and range tables from 100 eV  to 10 TeV in 77 bins\n",
        "      Lambda tables from threshold to 10 TeV in 77 bins, spline: 1\n",
        "      finalRange(mm)= 0.1, dRoverRange= 0.2, integral: 1, fluct: 1, linLossLimit= 0.01\n",
        "      ===== EM models for the G4Region  DefaultRegionForTheWorld ======\n",
        "            ICRU73QO :  Emin=        0 eV    Emax=        2 MeV\n",
        "          BetheBloch :  Emin=        2 MeV   Emax=       10 TeV\n",
        "\n",
        "hBrems:   for  anti_proton    SubType= 3\n",
        "      dE/dx and range tables from 100 eV  to 10 TeV in 77 bins\n",
        "      Lambda tables from threshold to 10 TeV in 77 bins, spline: 1\n",
        "      ===== EM models for the G4Region  DefaultRegionForTheWorld ======\n",
        "               hBrem :  Emin=        0 eV    Emax=       10 TeV\n",
        "\n",
        "hPairProd:   for  anti_proton    SubType= 4\n",
        "      dE/dx and range tables from 100 eV  to 10 TeV in 77 bins\n",
        "      Lambda tables from threshold to 10 TeV in 77 bins, spline: 1\n",
        "      ===== EM models for the G4Region  DefaultRegionForTheWorld ======\n",
        "           hPairProd :  Emin=        0 eV    Emax=       10 TeV\n",
        "\n",
        "msc:   for kaon+    SubType= 10\n",
        "      RangeFactor= 0.2, step limit type: 0, lateralDisplacement: 1, polarAngleLimit(deg)= 180\n",
        "      ===== EM models for the G4Region  DefaultRegionForTheWorld ======\n",
        "        WentzelVIUni :  Emin=        0 eV    Emax=       10 TeV  Table with 77 bins Emin=    100 eV    Emax=     10 TeV\n",
        "\n"
       ]
      },
      {
       "output_type": "stream",
       "stream": "stdout",
       "text": [
        "hIoni:   for  kaon+    SubType= 2\n",
        "      dE/dx and range tables from 100 eV  to 10 TeV in 77 bins\n",
        "      Lambda tables from threshold to 10 TeV in 77 bins, spline: 1\n",
        "      finalRange(mm)= 0.1, dRoverRange= 0.2, integral: 1, fluct: 1, linLossLimit= 0.01\n",
        "      ===== EM models for the G4Region  DefaultRegionForTheWorld ======\n",
        "               Bragg :  Emin=        0 eV    Emax=  1.05231 MeV\n",
        "          BetheBloch :  Emin=  1.05231 MeV   Emax=       10 TeV\n",
        "\n",
        "hBrems:   for  kaon+    SubType= 3\n",
        "      dE/dx and range tables from 100 eV  to 10 TeV in 77 bins\n",
        "      Lambda tables from threshold to 10 TeV in 77 bins, spline: 1\n",
        "      ===== EM models for the G4Region  DefaultRegionForTheWorld ======\n",
        "               hBrem :  Emin=        0 eV    Emax=       10 TeV\n",
        "\n",
        "hPairProd:   for  kaon+    SubType= 4\n",
        "      dE/dx and range tables from 100 eV  to 10 TeV in 77 bins\n",
        "      Lambda tables from threshold to 10 TeV in 77 bins, spline: 1\n",
        "      ===== EM models for the G4Region  DefaultRegionForTheWorld ======\n",
        "           hPairProd :  Emin=        0 eV    Emax=       10 TeV\n",
        "\n",
        "msc:   for kaon-    SubType= 10\n",
        "      RangeFactor= 0.2, step limit type: 0, lateralDisplacement: 1, polarAngleLimit(deg)= 180\n",
        "      ===== EM models for the G4Region  DefaultRegionForTheWorld ======\n",
        "        WentzelVIUni :  Emin=        0 eV    Emax=       10 TeV  Table with 77 bins Emin=    100 eV    Emax=     10 TeV\n",
        "\n",
        "hIoni:   for  kaon-    SubType= 2\n",
        "      dE/dx and range tables from 100 eV  to 10 TeV in 77 bins\n",
        "      Lambda tables from threshold to 10 TeV in 77 bins, spline: 1\n",
        "      finalRange(mm)= 0.1, dRoverRange= 0.2, integral: 1, fluct: 1, linLossLimit= 0.01\n",
        "      ===== EM models for the G4Region  DefaultRegionForTheWorld ======\n",
        "            ICRU73QO :  Emin=        0 eV    Emax=  1.05231 MeV\n",
        "          BetheBloch :  Emin=  1.05231 MeV   Emax=       10 TeV\n",
        "\n",
        "hBrems:   for  kaon-    SubType= 3\n",
        "      dE/dx and range tables from 100 eV  to 10 TeV in 77 bins\n",
        "      Lambda tables from threshold to 10 TeV in 77 bins, spline: 1\n",
        "      ===== EM models for the G4Region  DefaultRegionForTheWorld ======\n",
        "               hBrem :  Emin=        0 eV    Emax=       10 TeV\n",
        "\n",
        "hPairProd:   for  kaon-    SubType= 4\n",
        "      dE/dx and range tables from 100 eV  to 10 TeV in 77 bins\n",
        "      Lambda tables from threshold to 10 TeV in 77 bins, spline: 1\n",
        "      ===== EM models for the G4Region  DefaultRegionForTheWorld ======\n",
        "           hPairProd :  Emin=        0 eV    Emax=       10 TeV\n",
        "\n",
        "msc:   for mu+    SubType= 10\n",
        "      RangeFactor= 0.2, step limit type: 0, lateralDisplacement: 1, polarAngleLimit(deg)= 180\n",
        "      ===== EM models for the G4Region  DefaultRegionForTheWorld ======\n",
        "        WentzelVIUni :  Emin=        0 eV    Emax=       10 TeV  Table with 77 bins Emin=    100 eV    Emax=     10 TeV\n",
        "\n",
        "muIoni:   for  mu+    SubType= 2\n",
        "      dE/dx and range tables from 100 eV  to 10 TeV in 77 bins\n",
        "      Lambda tables from threshold to 10 TeV in 77 bins, spline: 1\n",
        "      finalRange(mm)= 1, dRoverRange= 0.2, integral: 1, fluct: 1, linLossLimit= 0.01\n",
        "      ===== EM models for the G4Region  DefaultRegionForTheWorld ======\n",
        "               Bragg :  Emin=        0 eV    Emax=      200 keV\n",
        "          BetheBloch :  Emin=      200 keV   Emax=        1 GeV\n",
        "        MuBetheBloch :  Emin=        1 GeV   Emax=       10 TeV\n",
        "\n",
        "muBrems:   for  mu+    SubType= 3\n",
        "      dE/dx and range tables from 100 eV  to 10 TeV in 77 bins\n",
        "      Lambda tables from threshold to 10 TeV in 77 bins, spline: 1\n",
        "      ===== EM models for the G4Region  DefaultRegionForTheWorld ======\n",
        "              MuBrem :  Emin=        0 eV    Emax=       10 TeV\n",
        "\n",
        "muPairProd:   for  mu+    SubType= 4\n",
        "      dE/dx and range tables from 100 eV  to 10 TeV in 77 bins\n",
        "      Lambda tables from threshold to 10 TeV in 77 bins, spline: 1\n",
        "      ===== EM models for the G4Region  DefaultRegionForTheWorld ======\n",
        "          muPairProd :  Emin=        0 eV    Emax=       10 TeV\n",
        "\n",
        "CoulombScat:   for  mu+, applyCuts: 1     SubType= 1\n",
        "      Lambda table from 100 eV  to 10 TeV in 43 bins, spline: 1\n",
        "      180 < Theta(degree) < 180; pLimit(GeV^1)= 0.139531\n",
        "      ===== EM models for the G4Region  DefaultRegionForTheWorld ======\n",
        "  eCoulombScattering :  Emin=        0 eV    Emax=       10 TeV\n",
        "\n",
        "msc:   for mu-    SubType= 10\n",
        "      RangeFactor= 0.2, step limit type: 0, lateralDisplacement: 1, polarAngleLimit(deg)= 180\n",
        "      ===== EM models for the G4Region  DefaultRegionForTheWorld ======\n",
        "        WentzelVIUni :  Emin=        0 eV    Emax=       10 TeV  Table with 77 bins Emin=    100 eV    Emax=     10 TeV\n",
        "\n",
        "muIoni:   for  mu-    SubType= 2\n",
        "      dE/dx and range tables from 100 eV  to 10 TeV in 77 bins\n",
        "      Lambda tables from threshold to 10 TeV in 77 bins, spline: 1\n",
        "      finalRange(mm)= 1, dRoverRange= 0.2, integral: 1, fluct: 1, linLossLimit= 0.01\n",
        "      ===== EM models for the G4Region  DefaultRegionForTheWorld ======\n",
        "            ICRU73QO :  Emin=        0 eV    Emax=      200 keV\n",
        "          BetheBloch :  Emin=      200 keV   Emax=        1 GeV\n",
        "        MuBetheBloch :  Emin=        1 GeV   Emax=       10 TeV\n",
        "\n",
        "muBrems:   for  mu-    SubType= 3\n",
        "      dE/dx and range tables from 100 eV  to 10 TeV in 77 bins\n",
        "      Lambda tables from threshold to 10 TeV in 77 bins, spline: 1\n",
        "      ===== EM models for the G4Region  DefaultRegionForTheWorld ======\n",
        "              MuBrem :  Emin=        0 eV    Emax=       10 TeV\n",
        "\n",
        "muPairProd:   for  mu-    SubType= 4\n",
        "      dE/dx and range tables from 100 eV  to 10 TeV in 77 bins\n",
        "      Lambda tables from threshold to 10 TeV in 77 bins, spline: 1\n",
        "      ===== EM models for the G4Region  DefaultRegionForTheWorld ======\n",
        "          muPairProd :  Emin=        0 eV    Emax=       10 TeV\n",
        "\n",
        "CoulombScat:   for  mu-, applyCuts: 1     SubType= 1\n",
        "      Lambda table from 100 eV  to 10 TeV in 43 bins, spline: 1\n",
        "      180 < Theta(degree) < 180; pLimit(GeV^1)= 0.139531\n",
        "      ===== EM models for the G4Region  DefaultRegionForTheWorld ======\n",
        "  eCoulombScattering :  Emin=        0 eV    Emax=       10 TeV\n",
        "\n",
        "msc:   for pi+    SubType= 10\n",
        "      RangeFactor= 0.2, step limit type: 0, lateralDisplacement: 1, polarAngleLimit(deg)= 180\n",
        "      ===== EM models for the G4Region  DefaultRegionForTheWorld ======\n",
        "        WentzelVIUni :  Emin=        0 eV    Emax=       10 TeV  Table with 77 bins Emin=    100 eV    Emax=     10 TeV\n",
        "\n",
        "hIoni:   for  pi+    SubType= 2\n",
        "      dE/dx and range tables from 100 eV  to 10 TeV in 77 bins\n",
        "      Lambda tables from threshold to 10 TeV in 77 bins, spline: 1\n",
        "      finalRange(mm)= 0.1, dRoverRange= 0.2, integral: 1, fluct: 1, linLossLimit= 0.01\n",
        "      ===== EM models for the G4Region  DefaultRegionForTheWorld ======\n",
        "               Bragg :  Emin=        0 eV    Emax=  297.505 keV\n",
        "          BetheBloch :  Emin=  297.505 keV   Emax=       10 TeV\n",
        "\n",
        "hBrems:   for  pi+    SubType= 3\n",
        "      dE/dx and range tables from 100 eV  to 10 TeV in 77 bins\n",
        "      Lambda tables from threshold to 10 TeV in 77 bins, spline: 1\n",
        "      ===== EM models for the G4Region  DefaultRegionForTheWorld ======\n",
        "               hBrem :  Emin=        0 eV    Emax=       10 TeV\n",
        "\n",
        "hPairProd:   for  pi+    SubType= 4\n",
        "      dE/dx and range tables from 100 eV  to 10 TeV in 77 bins\n",
        "      Lambda tables from threshold to 10 TeV in 77 bins, spline: 1\n",
        "      ===== EM models for the G4Region  DefaultRegionForTheWorld ======\n",
        "           hPairProd :  Emin=        0 eV    Emax=       10 TeV\n",
        "\n",
        "msc:   for pi-    SubType= 10\n",
        "      RangeFactor= 0.2, step limit type: 0, lateralDisplacement: 1, polarAngleLimit(deg)= 180\n",
        "      ===== EM models for the G4Region  DefaultRegionForTheWorld ======\n",
        "        WentzelVIUni :  Emin=        0 eV    Emax=       10 TeV  Table with 77 bins Emin=    100 eV    Emax=     10 TeV\n",
        "\n",
        "hIoni:   for  pi-    SubType= 2\n",
        "      dE/dx and range tables from 100 eV  to 10 TeV in 77 bins\n",
        "      Lambda tables from threshold to 10 TeV in 77 bins, spline: 1\n",
        "      finalRange(mm)= 0.1, dRoverRange= 0.2, integral: 1, fluct: 1, linLossLimit= 0.01\n",
        "      ===== EM models for the G4Region  DefaultRegionForTheWorld ======\n",
        "            ICRU73QO :  Emin=        0 eV    Emax=  297.505 keV\n",
        "          BetheBloch :  Emin=  297.505 keV   Emax=       10 TeV\n",
        "\n",
        "hBrems:   for  pi-    SubType= 3\n",
        "      dE/dx and range tables from 100 eV  to 10 TeV in 77 bins\n",
        "      Lambda tables from threshold to 10 TeV in 77 bins, spline: 1\n",
        "      ===== EM models for the G4Region  DefaultRegionForTheWorld ======\n",
        "               hBrem :  Emin=        0 eV    Emax=       10 TeV\n",
        "\n",
        "hPairProd:   for  pi-    SubType= 4\n",
        "      dE/dx and range tables from 100 eV  to 10 TeV in 77 bins\n",
        "      Lambda tables from threshold to 10 TeV in 77 bins, spline: 1\n",
        "      ===== EM models for the G4Region  DefaultRegionForTheWorld ======\n",
        "           hPairProd :  Emin=        0 eV    Emax=       10 TeV\n"
       ]
      }
     ],
     "prompt_number": 4
    },
    {
     "cell_type": "code",
     "collapsed": false,
     "input": [
      "sim.save_histograms(data_directory, run_name, runid)"
     ],
     "language": "python",
     "metadata": {},
     "outputs": [],
     "prompt_number": 12
    },
    {
     "cell_type": "code",
     "collapsed": false,
     "input": [
      "energy = load(\"%s/energy_%s_%s_%s.npy\" % (data_directory, sim_name, run_name, runid))"
     ],
     "language": "python",
     "metadata": {},
     "outputs": [],
     "prompt_number": 13
    },
    {
     "cell_type": "code",
     "collapsed": false,
     "input": [
      "plot(sum(sum(energy,axis=0),axis=0))\n",
      "grid(True)"
     ],
     "language": "python",
     "metadata": {},
     "outputs": [
      {
       "metadata": {},
       "output_type": "display_data",
       "png": "[encoded data removed]",
       "text": [
        "<matplotlib.figure.Figure at 0x7f35ea453c10>"
       ]
      }
     ],
     "prompt_number": 36
    },
    {
     "cell_type": "code",
     "collapsed": false,
     "input": [
      "contour(energy[:,:,45])"
     ],
     "language": "python",
     "metadata": {},
     "outputs": [
      {
       "metadata": {},
       "output_type": "pyout",
       "prompt_number": 35,
       "text": [
        "<matplotlib.contour.QuadContourSet instance at 0x7f35ea271c68>"
       ]
      },
      {
       "metadata": {},
       "output_type": "display_data",
       "png": "[encoded data removed]",
       "text": [
        "<matplotlib.figure.Figure at 0x7f35ea40b310>"
       ]
      }
     ],
     "prompt_number": 35
    },
    {
     "cell_type": "code",
     "collapsed": false,
     "input": [
      "plot(sum(sum(energy,axis=2),axis=1))"
     ],
     "language": "python",
     "metadata": {},
     "outputs": [
      {
       "metadata": {},
       "output_type": "pyout",
       "prompt_number": 37,
       "text": [
        "[<matplotlib.lines.Line2D at 0x7f35ea0ea210>]"
       ]
      },
      {
       "metadata": {},
       "output_type": "display_data",
       "png": "[encoded data removed]",
       "text": [
        "<matplotlib.figure.Figure at 0x7f35ea45ffd0>"
       ]
      }
     ],
     "prompt_number": 37
    },
    {
     "cell_type": "code",
     "collapsed": false,
     "input": [
      "sim.beam_on(int(1e6))\n",
      "sim.save_histograms(data_directory, run_name, runid)\n",
      "energy = load(\"%s/energy_%s_%s_%s.npy\" % (data_directory, sim_name, run_name, runid))"
     ],
     "language": "python",
     "metadata": {},
     "outputs": [
      {
       "output_type": "stream",
       "stream": "stdout",
       "text": [
        "Not using phasespace file as particle source, running from GPS\n"
       ]
      }
     ],
     "prompt_number": 32
    },
    {
     "cell_type": "code",
     "collapsed": false,
     "input": [],
     "language": "python",
     "metadata": {},
     "outputs": [],
     "prompt_number": 22
    },
    {
     "cell_type": "code",
     "collapsed": false,
     "input": [],
     "language": "python",
     "metadata": {},
     "outputs": [],
     "prompt_number": 22
    },
    {
     "cell_type": "code",
     "collapsed": false,
     "input": [],
     "language": "python",
     "metadata": {},
     "outputs": []
    }
   ],
   "metadata": {}
  }
 ]
}